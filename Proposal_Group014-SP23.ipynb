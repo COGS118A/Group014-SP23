{
 "cells": [
  {
   "cell_type": "markdown",
   "metadata": {},
   "source": [
    "# COGS 118A- Project Proposal"
   ]
  },
  {
   "cell_type": "markdown",
   "metadata": {},
   "source": [
    "# Project Description\n",
    "\n",
    "You will design and execute a machine learning project. There are a few constraints on the nature of the allowed project. \n",
    "- The problem addressed will not be a \"toy problem\" or \"common training students problem\" like mtcars, iris, palmer penguins etc.\n",
    "- The dataset will have >1k observations and >5 variables. I'd prefer more like >10k observations and >10 variables. A general rule is that if you have >100x more observations than variables, your solution will likely generalize a lot better. The goal of training a supervised machine learning model is to learn the underlying pattern in a dataset in order to generalize well to unseen data, so choosing a large dataset is very important.\n",
    "\n",
    "- The project will include a model selection and/or feature selection component where you will be looking for the best setup to maximize the performance of your ML system.\n",
    "- You will evaluate the performance of your ML system using more than one appropriate metric\n",
    "- You will be writing a report describing and discussing these accomplishments\n",
    "\n",
    "\n",
    "Feel free to delete this description section when you hand in your proposal."
   ]
  },
  {
   "cell_type": "markdown",
   "metadata": {},
   "source": [
    "### Peer Review\n",
    "\n",
    "You will all have an opportunity to look at the Project Proposals of other groups to fuel your creativity and get more ideas for how you can improve your own projects. \n",
    "\n",
    "Both the project proposal and project checkpoint will have peer review."
   ]
  },
  {
   "cell_type": "markdown",
   "metadata": {},
   "source": [
    "# Names\n",
    "\n",
    "- Yilin Zhu"
   ]
  },
  {
   "cell_type": "markdown",
   "metadata": {},
   "source": [
    "# Abstract \n",
    "This section should be short and clearly stated. It should be a single paragraph <200 words.  It should summarize: \n",
    "- what your goal/problem is\n",
    "- what the data used represents and how they are measured\n",
    "- what you will be doing with the data\n",
    "- how performance/success will be measured\n",
    "\n",
    "In this project, we want to predict customer churn for a telecom company using the Telco Customer Churn dataset from IBM company. \n",
    "The data contains information about a telco company that provided home phone and Internet services to 7043 customers in California in Q3. It indicates which customers have left, stayed, or signed up for their service. Multiple important demographics are included for each customer, as well as a Satisfaction Score, Churn Score, and Customer Lifetime Value (CLTV) index.I will use machine learning algorithms to analyze the data and predict customer churn. One goal is identifying which factors are most strongly associated with churn. I will use various models and algorithms, including logistic regression, decision trees, and random forests to compare their performance. And I will use techniques such as cross validation to select the best model. The success will be measured using metrics such as accuracy, precision, recall, and F1 score: they will give me a comprehensive understanding of the model's performance. The ultimate goal is helping the telecom company to better understand their customers and take proactive steps to reduce churn rates and improve customer retention."
   ]
  },
  {
   "cell_type": "markdown",
   "metadata": {},
   "source": [
    "# Background\n",
    "\n",
    "Fill in the background and discuss the kind of prior work that has gone on in this research area here. **Use inline citation** to specify which references support which statements.  You can do that through HTML footnotes (demonstrated here). I used to reccommend Markdown footnotes (google is your friend) because they are simpler but recently I have had some problems with them working for me whereas HTML ones always work so far. So use the method that works for you, but do use inline citations. \n",
    "\n",
    "Remeber you are trying to explain why someone would want to answer your question or why your hypothesis is in the form that you've stated.\n",
    "\n",
    "\n",
    "\n",
    "Customer churn prediction is a crucial problem in the field of business analytics. It has been studied extensively by practitioners from various field in the business world<a name=\"name1\"></a>[<sup>[1]</sup>](#name1n). The motive for studying this sort of problem is to predict whether a customer is likely to leave a company's service so that the companies could come up with proactive schemes to retain their customers and maintain the stability of revenue flows. One hypothesis is that the tenure would be one of the deciding factors: longer then tenure, less likely the customer churn would happen. This is because intuitively people were less likely to make a change when they stick with the company for a long time.\n",
    "\n",
    "The Telco Customer Churn dataset from IBM Business Analytics<a name=\"name2\"></a>[<sup>[2]</sup>](#name2n) has been used by practitioners to develop and test machine learning models. The dataset consists important customer information such as tenure, total charges, subscriptions, and contract type. The final prediction variable is customer churn.\n",
    "\n",
    "Machine learning algorithms such as logistic regression, random forests, decision trees, support vector machine and neural networks could be used to predict customer churn. Previous studies have shown that the models combining multiple algorithms perform better than individual models<a name=\"name3\"></a>[<sup>[3]</sup>](#name3n). For this project, I would use different algorithms seperately and compare the performance of these algorithms as well as the model selections.\n",
    "\n",
    "The performance of the machine learning models would be evaluated using metrics such as accuracy, precision, recall, and F1 score. Cross-validation and hyperparameter tuning techniques are widely used to optimize the model's performance<a name=\"name4\"></a>[<sup>[4]</sup>](#name4n)."
   ]
  },
  {
   "cell_type": "markdown",
   "metadata": {},
   "source": [
    "# Problem Statement\n",
    "\n",
    "Clearly describe the problem that you are solving. Avoid ambiguous words. The problem described should be well defined and should have at least one ML-relevant potential solution. Additionally, describe the problem thoroughly such that it is clear that the problem is quantifiable (the problem can be expressed in mathematical or logical terms), measurable (the problem can be measured by some metric and clearly observed), and replicable (the problem can be reproduced and occurs more than once).\n",
    "\n",
    "In this problem, I need to predict customer churn for a telecommunication company with supervised machine learning methods. Here is a definition of Customer Churn: it is a phenomenon that customers stop doing business with a company and switch to that company's competitor. In the context of a teleco company, churn can be caused by various factors such as increased price, poor customer service, and better offers from competitors. The problem is quantifiable because the ultimate goal is predicting whether a customer will churn or not (binary classification) based on features such as their tenure, contract type, payment method, etc. Such problem could be further can be expressed with classification algorithms to predict customer churn. I could measure the performance of the algorithms and models with a rainbow of metrics such as precision, recall, F1 score, and AUC-ROC curve. The problem is replicable since it can be reproduced using the same dataset and features to train and test various supervised machine learning models to predict customer churn for other similar companies or for a same company with data in the future."
   ]
  },
  {
   "cell_type": "markdown",
   "metadata": {},
   "source": [
    "# Data\n",
    "\n",
    "You should have a strong idea of what dataset(s) will be used to accomplish this project. \n",
    "\n",
    "If you know what (some) of the data you will use, please give the following information for each dataset:\n",
    "- link/reference to obtain it\n",
    "- description of the size of the dataset (# of variables, # of observations)\n",
    "- what an observation consists of\n",
    "- what some critical variables are, how they are represented\n",
    "- any special handling, transformations, cleaning, etc will be needed\n",
    "\n",
    "If you don't yet know what your dataset(s) will be, you should describe what you desire in terms of the above bullets.\n",
    "\n",
    "\n",
    "Link: https://community.ibm.com/community/user/businessanalytics/blogs/steven-macko/2019/07/11/telco-customer-churn-1113\n",
    "\n",
    "In this project, I will be using the Telco Customer Churn dataset from IBM Business Analytics. This dataset consists of customer information for a telecommunications company, including their tenure, satisfaction score, churn score, and customer lifetime value. Other importan variables involves customer demographics (such as gender and age), account information (such as contract type and payment method), and usage patterns (such as monthly charges and total charges).This dataset contains 7043 observations and 21 variables, with each observation representing a unique customer with a unique id. \n",
    "\n",
    "One crucial variable in this dataset is the \"Churn\" variable: it indicates whether or not a customer has declined the company's service. This variable will be used as the target variable in our machine learning models, and it would be used for testing accuracy. Another important variable is \"Tenure,\" which represents the length of time a customer has been with the company. This variable would have a significant impact on a customer's likelihood of churning for the reason that customers who have been with the company for a longer period of time may be more likely to stay.\n",
    "\n",
    "Cleaning and preprocessing will be required for preparing the data analysis. One important task is to use one-hot encoding to transform categorical variables into numerical variables. Also, unecessary variables such as user IDs should be removed. Certain normalizations are needed to scale the importance of different variables into a same level."
   ]
  },
  {
   "cell_type": "markdown",
   "metadata": {},
   "source": [
    "# Proposed Solution\n",
    "\n",
    "In this section, clearly describe a solution to the problem. The solution should be applicable to the project domain and appropriate for the dataset(s) or input(s) given. Provide enough detail (e.g., algorithmic description and/or theoretical properties) to convince us that your solution is applicable. Why might your solution work? Make sure to describe how the solution will be tested.  \n",
    "\n",
    "If you know details already, describe how (e.g., library used, function calls) you plan to implement the solution in a way that is reproducible.\n",
    "\n",
    "If it is appropriate to the problem statement, describe a benchmark model<a name=\"sota\"></a>[<sup>[3]</sup>](#sotanote) against which your solution will be compared. \n",
    "\n",
    "\n",
    "An ideal solution is implementing different binary classification algorithms such as logistic regression, support vector machines, and random forest. Since the goal is to predict whether a customer will churn or not based on the level of importance for different variables, I may want to conduct PCA to perform dimension reduction. Generally, this problem could be solved with supervised machine learning methods: we need to split the data into training, testing, and validation sections. Specifically, I train the model based on the provided \"churn\" label: customers who have churned and those who have not. Cross validation should be performed as the size of the dataset is not very big.\n",
    "\n",
    "- Exploratory Data Analysis (EDA): \n",
    "    I need to summarize the main characteristics of a dataset by visualizing the variables. This enables me to gain more insight about the data. The goal of EDA is to understand the distribution of the data and detect any outliers. Fortunately, some variables could be removed directly by observing the distributions when I identify patterns among variables.\n",
    "\n",
    "- Preprocess Data: Data Cleaning. Perform one-hot encoding.\n",
    "\n",
    "- (Optional foir 118a) Dimension Reduction & Feature Selection: Since there are 21 variables, it potentially includes a lot of noise. So I may want to remove the features with little impact in decision making. Ideally, Principal Component Analysis should be performed. I may want to use XGBoost. Or I could use the result from EDA and remove some features based on reasoning.\n",
    "\n",
    "- Model training: Use  k-fold cross-validation to ensure the model's performance is reliable and robust.Try different algorithms and tune the hyperparameter to enhance the result. Hyperparameters such as regularization strength or number of trees in the random forest could be changed using grid search or randomized search to improve model performance.\n",
    "\n",
    "- Model and Algorithm evaluation: Evaluate metrics such as accuracy, precision, recall, F1-score, and AUC-ROC curve to compare performance. Nested cross validation could be implemented for the evaluation. "
   ]
  },
  {
   "cell_type": "markdown",
   "metadata": {},
   "source": [
    "# Evaluation Metrics\n",
    "\n",
    "Propose at least one evaluation metric that can be used to quantify the performance of both the benchmark model and the solution model. The evaluation metric(s) you propose should be appropriate given the context of the data, the problem statement, and the intended solution. Describe how the evaluation metric(s) are derived and provide an example of their mathematical representations (if applicable). Complex evaluation metrics should be clearly defined and quantifiable (can be expressed in mathematical or logical terms).\n",
    "\n",
    "here is something...\n",
    "testing\n",
    "new stuff\\\n",
    "so hard\\\n",
    "New Things"
   ]
  },
  {
   "cell_type": "markdown",
   "metadata": {},
   "source": [
    "# Ethics & Privacy"
   ]
  },
  {
   "cell_type": "markdown",
   "metadata": {},
   "source": [
    "If your project has obvious potential concerns with ethics or data privacy discuss that here.  Almost every ML project put into production can have ethical implications if you use your imagination. Use your imagination. Get creative!\n",
    "\n",
    "Even if you can't come up with an obvious ethical concern that should be addressed, you should know that a large number of ML projects that go into producation have unintended consequences and ethical problems once in production. How will your team address these issues?\n",
    "\n",
    "Consider a tool to help you address the potential issues such as https://deon.drivendata.org"
   ]
  },
  {
   "cell_type": "markdown",
   "metadata": {},
   "source": [
    "# Team Expectations "
   ]
  },
  {
   "cell_type": "markdown",
   "metadata": {},
   "source": [
    "Put things here that cement how you will interact/communicate as a team, how you will handle conflict and difficulty, how you will handle making decisions and setting goals/schedule, how much work you expect from each other, how you will handle deadlines, etc...\n",
    "* *Team Expectation 1*\n",
    "* *Team Expectation 2*\n",
    "* *Team Expecation 3*\n",
    "* ..."
   ]
  },
  {
   "cell_type": "markdown",
   "metadata": {},
   "source": [
    "# Project Timeline Proposal"
   ]
  },
  {
   "cell_type": "markdown",
   "metadata": {},
   "source": [
    "Replace this with something meaningful that is appropriate for your needs. It doesn't have to be something that fits this format.  It doesn't have to be set in stone... \"no battle plan survives contact with the enemy\". But you need a battle plan nonetheless, and you need to keep it updated so you understand what you are trying to accomplish, who's responsible for what, and what the expected due dates are for each item.\n",
    "\n",
    "| Meeting Date  | Meeting Time| Completed Before Meeting  | Discuss at Meeting |\n",
    "|---|---|---|---|\n",
    "| 1/20  |  1 PM |  Brainstorm topics/questions (all)  | Determine best form of communication; Discuss and decide on final project topic; discuss hypothesis; begin background research | \n",
    "| 1/26  |  10 AM |  Do background research on topic (Pelé) | Discuss ideal dataset(s) and ethics; draft project proposal | \n",
    "| 2/1  | 10 AM  | Edit, finalize, and submit proposal; Search for datasets (Beckenbaur)  | Discuss Wrangling and possible analytical approaches; Assign group members to lead each specific part   |\n",
    "| 2/14  | 6 PM  | Import & Wrangle Data ,do some EDA (Maradonna) | Review/Edit wrangling/EDA; Discuss Analysis Plan   |\n",
    "| 2/23  | 12 PM  | Finalize wrangling/EDA; Begin programming for project (Cruyff) | Discuss/edit project code; Complete project |\n",
    "| 3/13  | 12 PM  | Complete analysis; Draft results/conclusion/discussion (Carlos)| Discuss/edit full project |\n",
    "| 3/19  | Before 11:59 PM  | NA | Turn in Final Project  |"
   ]
  },
  {
   "cell_type": "markdown",
   "metadata": {},
   "source": [
    "# Footnotes\n",
    "\n",
    "<a name=\"name1n\"></a>1.[^](#name1): K. Dahiya and S. Bhatia. Customer churn analysis in telecom industry. 2015 4th International Conference on Reliability.Infocom Technologies and Optimization (ICRITO.https://ieeexplore.ieee.org/abstract/document/7359318 <br>\n",
    "<a name=\"name2n\"></a>2.[^](#name2): Telco Customer Churn dataset. IBM Business Analytics. https://community.ibm.com/community/user/businessanalytics/blogs/steven-macko/2019/07/11/telco-customer-churn-1113 <br>\n",
    "<a name=\"name3n\"></a>3.[^](#name3):Suh, Y. Machine learning based customer churn prediction in home appliance rental business. J Big Data 10, 41 (2023). https://doi.org/10.1186/s40537-023-00721-8 <br>\n",
    "<a name=\"name4n\"></a>4.[^](#name4): Bhuse, P., Gandhi, A., Meswani, P., Muni, R., & Katre, N. (2020). Machine Learning Based Telecom-Customer Churn Prediction. 2020 3rd International Conference on Intelligent Sustainable Systems (ICISS), 1297-1301.https://www.semanticscholar.org/paper/Machine-Learning-Based-Telecom-Customer-Churn-Bhuse-Gandhi/daf8cc73ed7fb8f474cbfa111db0118edee4b5ee <br>\n"
   ]
  },
  {
   "cell_type": "code",
   "execution_count": null,
   "metadata": {},
   "outputs": [],
   "source": []
  }
 ],
 "metadata": {
  "kernelspec": {
   "display_name": "Python 3 (ipykernel)",
   "language": "python",
   "name": "python3"
  },
  "language_info": {
   "codemirror_mode": {
    "name": "ipython",
    "version": 3
   },
   "file_extension": ".py",
   "mimetype": "text/x-python",
   "name": "python",
   "nbconvert_exporter": "python",
   "pygments_lexer": "ipython3",
   "version": "3.9.12"
  }
 },
 "nbformat": 4,
 "nbformat_minor": 2
}
